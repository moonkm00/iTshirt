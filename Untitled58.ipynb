{
  "nbformat": 4,
  "nbformat_minor": 0,
  "metadata": {
    "colab": {
      "provenance": [],
      "authorship_tag": "ABX9TyNhUmQmF1RDP11Sl/whwMo7",
      "include_colab_link": true
    },
    "kernelspec": {
      "name": "python3",
      "display_name": "Python 3"
    },
    "language_info": {
      "name": "python"
    }
  },
  "cells": [
    {
      "cell_type": "markdown",
      "metadata": {
        "id": "view-in-github",
        "colab_type": "text"
      },
      "source": [
        "<a href=\"https://colab.research.google.com/github/moonkm00/iTshirt/blob/main/Untitled58.ipynb\" target=\"_parent\"><img src=\"https://colab.research.google.com/assets/colab-badge.svg\" alt=\"Open In Colab\"/></a>"
      ]
    },
    {
      "cell_type": "code",
      "execution_count": 1,
      "metadata": {
        "colab": {
          "base_uri": "https://localhost:8080/"
        },
        "id": "jEkZMCPTaonz",
        "outputId": "1cbb7d30-c0b3-48b8-dfd0-6f059504f962"
      },
      "outputs": [
        {
          "output_type": "stream",
          "name": "stdout",
          "text": [
            "Cloning into 'Trip'...\n",
            "remote: Enumerating objects: 334, done.\u001b[K\n",
            "remote: Counting objects: 100% (334/334), done.\u001b[K\n",
            "remote: Compressing objects: 100% (212/212), done.\u001b[K\n",
            "remote: Total 334 (delta 169), reused 274 (delta 110), pack-reused 0\u001b[K\n",
            "Receiving objects: 100% (334/334), 27.75 MiB | 10.42 MiB/s, done.\n",
            "Resolving deltas: 100% (169/169), done.\n",
            "Updating files: 100% (119/119), done.\n"
          ]
        }
      ],
      "source": [
        "!git clone https://github.com/hyung9683/Trip.git"
      ]
    }
  ]
}